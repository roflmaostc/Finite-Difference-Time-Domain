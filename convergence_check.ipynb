{
 "cells": [
  {
   "cell_type": "code",
   "execution_count": 1,
   "metadata": {},
   "outputs": [],
   "source": [
    "import numpy as np\n",
    "from finite_difference_time_domain import fdtd_3d, Fdtd3DAnimation\n",
    "from matplotlib import pyplot as plt\n",
    "\n",
    "# dark bluered colormap, registers automatically with matplotlib on import\n",
    "import bluered_dark\n",
    "import skimage.transform as skf\n",
    "from scipy import optimize\n",
    "\n",
    "plt.rcParams.update({\n",
    "        'figure.figsize': (12/2.54, 9/2.54),\n",
    "        'figure.subplot.bottom': 0.15,\n",
    "        'figure.subplot.left': 0.165,\n",
    "        'figure.subplot.right': 0.90,\n",
    "        'figure.subplot.top': 0.9,\n",
    "        'axes.grid': False,\n",
    "        'image.cmap': 'bluered_dark',\n",
    "})\n",
    "\n",
    "plt.close('all')\n",
    "\n",
    "# %%%%%%%%%%%%%%%%%%%%%%%%%%%%%%%%%%%%%%%%%%%%%%%%%%%%%%%%%%%%%%%%%%%%%%%%%%%%%\n",
    "# constants\n",
    "c = 2.99792458e8 # speed of light [m/s]\n",
    "mu0 = 4*np.pi*1e-7 # vacuum permeability [Vs/(Am)]\n",
    "eps0 = 1/(mu0*c**2) # vacuum permittivity [As/(Vm)]\n",
    "Z0 = np.sqrt(mu0/eps0) # vacuum impedance [Ohm]\n",
    "\n",
    "def rel_error(v_out, ref):\n",
    "    return np.mean(np.abs(v_out - ref))"
   ]
  },
  {
   "cell_type": "code",
   "execution_count": 2,
   "metadata": {},
   "outputs": [],
   "source": [
    "Nx = 330 # number of grid points in x-direction\n",
    "Ny = 330 # number of grid points in y-direction\n",
    "Nz = 5   # number of grid points in z-direction\n",
    "dr = 200 / Nx * 30e-9 # grid spacing in [m]\n",
    "time_span = 10e-15 # duration of simulation [s]\n",
    "\n",
    "# x coordinates\n",
    "x = np.arange(-int(np.ceil((Nx-1)/2)), int(np.floor((Nx-1)/2)) + 1)*dr\n",
    "# y coordinates\n",
    "y = np.arange(-int(np.ceil((Ny-1)/2)), int(np.floor((Ny-1)/2)) + 1)*dr\n",
    "\n",
    "# source parameters\n",
    "freq = 500e12 # pulse [Hz]\n",
    "tau = 1e-15 # pulse width [s]\n",
    "t0 = 3 * tau\n",
    "source_width = 2 * dr # width of Gaussian current dist. [grid points]\n",
    "\n",
    "# grid midpoints\n",
    "midx = int(np.ceil((Nx-1)/2))\n",
    "midy = int(np.ceil((Ny-1)/2))\n",
    "midz = int(np.ceil((Nz-1)/2))\n",
    "\n",
    "# choose dt small enough\n",
    "dt = dr / 2 / c\n",
    "# time array\n",
    "t = np.arange(0, time_span, dt)\n",
    "\n",
    "eps_rel = np.ones((Nx, Ny, Nz))\n",
    "\n",
    "jx = np.zeros((Nx, Ny, Nz), dtype=np.complex128)\n",
    "jy = np.copy(jx)\n",
    "jz = np.ones((1, 1, Nz)) * np.exp(- (np.reshape(y, (1, len(y), 1)) ** 2 + \n",
    "               np.reshape(x, (len(x), 1, 1)) ** 2) / source_width ** 2)\n",
    "\n",
    "\n",
    "z_ind = midz  # z-index of field output\n",
    "output_step = 4  # time steps between field output\n",
    "Ex, Ey, Ez, Hx, Hy, Hz, t =\\\n",
    "    fdtd_3d(eps_rel, dr, time_span, freq, tau, jx, jy, jz, \"ex\",\n",
    "               z_ind, output_step)\n",
    "\n",
    "ref = np.abs(Ez)"
   ]
  },
  {
   "cell_type": "code",
   "execution_count": 3,
   "metadata": {},
   "outputs": [
    {
     "data": {
      "text/plain": [
       "<matplotlib.image.AxesImage at 0x7fd1d1579130>"
      ]
     },
     "execution_count": 3,
     "metadata": {},
     "output_type": "execute_result"
    },
    {
     "data": {
      "image/png": "[encoded data removed]",
      "text/plain": [
       "<Figure size 432x288 with 1 Axes>"
      ]
     },
     "metadata": {
      "needs_background": "light"
     },
     "output_type": "display_data"
    }
   ],
   "source": [
    "plt.imshow(np.abs(ref[20]))"
   ]
  },
  {
   "cell_type": "code",
   "execution_count": 4,
   "metadata": {},
   "outputs": [],
   "source": [
    "\n",
    "arr = []\n",
    "res = []\n",
    "\n",
    "for i in range(50, 300, 10):\n",
    "    Nx = i # number of grid points in x-direction\n",
    "    Ny = i # number of grid points in y-direction\n",
    "    Nz = 5   # number of grid points in z-direction\n",
    "    dr = 200 / i * 30e-9 # grid spacing in [m]\n",
    "    time_span = 10e-15 # duration of simulation [s]\n",
    "\n",
    "    # x coordinates\n",
    "    x = np.arange(-int(np.ceil((Nx-1)/2)), int(np.floor((Nx-1)/2)) + 1)*dr\n",
    "    # y coordinates\n",
    "    y = np.arange(-int(np.ceil((Ny-1)/2)), int(np.floor((Ny-1)/2)) + 1)*dr\n",
    "\n",
    "    # source parameters\n",
    "    freq = 500e12 # pulse [Hz]\n",
    "    tau = 1e-15 # pulse width [s]\n",
    "    t0 = 3 * tau\n",
    "    source_width = 2 * dr # width of Gaussian current dist. [grid points]\n",
    "\n",
    "    # grid midpoints\n",
    "    midx = int(np.ceil((Nx-1)/2))\n",
    "    midy = int(np.ceil((Ny-1)/2))\n",
    "    midz = int(np.ceil((Nz-1)/2))\n",
    "\n",
    "    # choose dt small enough\n",
    "    dt = dr / 2 / c\n",
    "    # time array\n",
    "    t = np.arange(0, time_span, dt)\n",
    "\n",
    "    eps_rel = np.ones((Nx, Ny, Nz))\n",
    "\n",
    "\n",
    "    jx = np.zeros((Nx, Ny, Nz), dtype=np.complex128)\n",
    "    jy = np.copy(jx)\n",
    "    jz = np.ones((1, 1, Nz)) * np.exp(- (np.reshape(y, (1, len(y), 1)) ** 2 + \n",
    "                   np.reshape(x, (len(x), 1, 1)) ** 2) / source_width ** 2)\n",
    "    \n",
    "    z_ind = midz  # z-index of field output\n",
    "    output_step = 4  # time steps between field output\n",
    "    \n",
    "    Ex, Ey, Ez, Hx, Hy, Hz, t =\\\n",
    "    fdtd_3d(eps_rel, dr, time_span, freq, tau, jx, jy, jz, \"ex\",\n",
    "               z_ind, output_step)\n",
    "    \n",
    "    ref_s = skf.resize(ref, Ez.shape, order=3)\n",
    "    ref_s /= np.max(ref_s)\n",
    "    \n",
    "    Ez = np.abs(Ez)\n",
    "    Ez /= np.max(Ez)\n",
    "    \n",
    "    res.append(rel_error(ref_s, Ez))\n",
    "    arr.append(dr)"
   ]
  },
  {
   "cell_type": "code",
   "execution_count": 5,
   "metadata": {},
   "outputs": [
    {
     "name": "stdout",
     "output_type": "stream",
     "text": [
      "[5.84875220e+10 1.79408872e+00]\n",
      "[1.63943926e+11 1.62493509e-01]\n"
     ]
    },
    {
     "name": "stderr",
     "output_type": "stream",
     "text": [
      "<ipython-input-5-d14e0e31c6e2>:2: RuntimeWarning: overflow encountered in power\n",
      "  return a * x ** b\n"
     ]
    },
    {
     "data": {
      "text/plain": [
       "[<matplotlib.lines.Line2D at 0x7fd1d503bc40>]"
      ]
     },
     "execution_count": 5,
     "metadata": {},
     "output_type": "execute_result"
    },
    {
     "data": {
      "image/png": "[encoded data removed]",
      "text/plain": [
       "<Figure size 432x288 with 1 Axes>"
      ]
     },
     "metadata": {
      "needs_background": "light"
     },
     "output_type": "display_data"
    }
   ],
   "source": [
    "def fit_f(x, a, b):\n",
    "    return a * x ** b\n",
    "\n",
    "params, pcov= optimize.curve_fit(fit_f, arr[10:], res[10:], p0=[10000, 2])\n",
    "perr = np.sqrt(np.diag(pcov))\n",
    "print(params)\n",
    "print(perr)\n",
    "plt.loglog(arr, fit_f(arr, params[0], params[1]))\n",
    "plt.loglog(arr, res)"
   ]
  },
  {
   "cell_type": "code",
   "execution_count": null,
   "metadata": {},
   "outputs": [],
   "source": []
  }
 ],
 "metadata": {
  "kernelspec": {
   "display_name": "Python 3",
   "language": "python",
   "name": "python3"
  },
  "language_info": {
   "codemirror_mode": {
    "name": "ipython",
    "version": 3
   },
   "file_extension": ".py",
   "mimetype": "text/x-python",
   "name": "python",
   "nbconvert_exporter": "python",
   "pygments_lexer": "ipython3",
   "version": "3.8.3"
  }
 },
 "nbformat": 4,
 "nbformat_minor": 2
}
